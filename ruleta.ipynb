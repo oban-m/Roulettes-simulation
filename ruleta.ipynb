{
 "cells": [
  {
   "cell_type": "code",
   "execution_count": 21,
   "metadata": {},
   "outputs": [],
   "source": [
    "# Estudio de la ruleta mediante una Chi - cuadrado. \n",
    "# Queremos ver si los valores observados (en este caso seran aleatorios) son compatibles con los valores teoricos. \n",
    "# En la ruleta hay 37 numeros del 0 al 36, por lo que cada numero tiene 1/37 posibilidades de salir.\n",
    "# La simulacion sera de 10 millones de tiradas, por lo que la frecuencia teorica de cada numero sera de 10 millones por 1/37."
   ]
  },
  {
   "cell_type": "code",
   "execution_count": 22,
   "metadata": {},
   "outputs": [],
   "source": [
    "# Primero importamos las librerias necesarias:\n",
    "import numpy as np\n",
    "import matplotlib.pyplot as plt\n",
    "import scipy.stats as stats"
   ]
  },
  {
   "cell_type": "code",
   "execution_count": 23,
   "metadata": {},
   "outputs": [
    {
     "name": "stdout",
     "output_type": "stream",
     "text": [
      "[27  5 23 ...  1 30 33]\n"
     ]
    }
   ],
   "source": [
    "# Generamos 10 millones de tiros con numpy:\n",
    "tiros_observados = np.random.randint(0, 37, 10000000)\n",
    "print(tiros_observados)"
   ]
  },
  {
   "cell_type": "code",
   "execution_count": 24,
   "metadata": {},
   "outputs": [],
   "source": [
    "# Ahora contamos la frecuencia de cada numero observado y lo guardamos en un diccinario\n",
    "freq_dic = {}\n",
    "for i in range(0, len(tiros_observados)):\n",
    "    if tiros_observados[i] in freq_dic:\n",
    "        freq_dic[tiros_observados[i]] += 1\n",
    "    else:\n",
    "        freq_dic[tiros_observados[i]] = 1"
   ]
  },
  {
   "cell_type": "code",
   "execution_count": 25,
   "metadata": {},
   "outputs": [
    {
     "name": "stdout",
     "output_type": "stream",
     "text": [
      "[0, 1, 2, 3, 4, 5, 6, 7, 8, 9, 10, 11, 12, 13, 14, 15, 16, 17, 18, 19, 20, 21, 22, 23, 24, 25, 26, 27, 28, 29, 30, 31, 32, 33, 34, 35, 36]\n",
      "[270497, 270152, 270044, 270652, 271100, 269689, 269951, 270252, 269633, 270367, 270921, 269994, 270275, 270141, 270098, 271377, 269409, 269290, 269442, 270599, 269760, 270253, 269761, 270420, 270322, 270442, 270832, 270362, 270846, 270316, 269331, 270547, 270395, 271253, 269961, 270193, 271123]\n"
     ]
    }
   ],
   "source": [
    "# Ahora ordenamos y dividimos los numeros y los valores observados\n",
    "freq = [(i, freq_dic[i]) for i in range(37)]\n",
    "valores = [i for i in range(37)]\n",
    "freq_val_observats = [_ for val, _ in freq]\n",
    "print(valores)\n",
    "print(freq_val_observats)\n",
    "\n",
    "# Creamos una lista con las frecuencias teoricas. \n",
    "freq_val_teoricos = [10000000 * 1/37 for i in range(37)] "
   ]
  },
  {
   "cell_type": "code",
   "execution_count": 26,
   "metadata": {},
   "outputs": [
    {
     "data": {
      "image/png": "[encoded data removed]",
      "text/plain": [
       "<Figure size 640x480 with 1 Axes>"
      ]
     },
     "metadata": {},
     "output_type": "display_data"
    }
   ],
   "source": [
    "# Ahora ploteamos para ver la distribucion y la desviacion. \n",
    "plt.plot(valores, freq_val_teoricos, color = 'blue')\n",
    "plt.scatter(valores, freq_val_observats, color = 'red')\n",
    "plt.show()"
   ]
  },
  {
   "cell_type": "code",
   "execution_count": 27,
   "metadata": {},
   "outputs": [
    {
     "data": {
      "text/plain": [
       "37.278378"
      ]
     },
     "execution_count": 27,
     "metadata": {},
     "output_type": "execute_result"
    }
   ],
   "source": [
    "# Ahora calculamos el valor de la chi cuadrado\n",
    "chi_cuadrado = sum((freq_val_observats[i] - freq_val_teoricos[i]) ** 2 / freq_val_teoricos[i] for i in range(37))\n",
    "chi_cuadrado"
   ]
  },
  {
   "cell_type": "code",
   "execution_count": 28,
   "metadata": {},
   "outputs": [
    {
     "name": "stdout",
     "output_type": "stream",
     "text": [
      "True\n"
     ]
    }
   ],
   "source": [
    "# Para una chi cuadrado con 37 - 1 = 36 parametros de libertad y un nivel de significancia de 0.01 el valor critico es 64, por lo que la hipotesis de que lo observado es la distribucion teorica\n",
    "# es fiable.\n",
    "df = 36\n",
    "alpha = 0.05\n",
    "valor_critico = stats.chi2.ppf(1-alpha, df)\n",
    "\n",
    "if chi_cuadrado < valor_critico:\n",
    "    print(True)"
   ]
  }
 ],
 "metadata": {
  "kernelspec": {
   "display_name": "base",
   "language": "python",
   "name": "python3"
  },
  "language_info": {
   "codemirror_mode": {
    "name": "ipython",
    "version": 3
   },
   "file_extension": ".py",
   "mimetype": "text/x-python",
   "name": "python",
   "nbconvert_exporter": "python",
   "pygments_lexer": "ipython3",
   "version": "3.12.7"
  }
 },
 "nbformat": 4,
 "nbformat_minor": 2
}
